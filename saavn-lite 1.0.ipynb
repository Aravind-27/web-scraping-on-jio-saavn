{
 "cells": [
  {
   "cell_type": "code",
   "execution_count": 42,
   "metadata": {},
   "outputs": [],
   "source": [
    "import requests,re,pandas as pd\n",
    "from bs4 import BeautifulSoup as bs"
   ]
  },
  {
   "cell_type": "code",
   "execution_count": 43,
   "metadata": {},
   "outputs": [],
   "source": [
    "alpha='t'\n",
    "lang='english'"
   ]
  },
  {
   "cell_type": "code",
   "execution_count": 44,
   "metadata": {},
   "outputs": [],
   "source": [
    "r=requests.get('https://www.jiosaavn.com/catalogue-{}/albums-{}/'.format(alpha,lang))\n",
    "soup=bs(r.content,'html.parser')\n",
    "#print(soup.prettify())"
   ]
  },
  {
   "cell_type": "code",
   "execution_count": 45,
   "metadata": {},
   "outputs": [],
   "source": [
    "sme=soup.find_all('ul',class_='catalog-items')\n",
    "s_name=[]\n",
    "s_link=[]\n",
    "for s in sme:\n",
    "    s_name.append(s.get_text())"
   ]
  },
  {
   "cell_type": "code",
   "execution_count": 46,
   "metadata": {},
   "outputs": [],
   "source": [
    "for s in soup.find_all('a'):\n",
    "    ls=str(s.get('href'))\n",
    "    if(ls.startswith('https://www.jiosaavn.com/album/{}'.format(alpha))):\n",
    "        s_link.append(ls)"
   ]
  },
  {
   "cell_type": "code",
   "execution_count": 60,
   "metadata": {},
   "outputs": [],
   "source": [
    "df=pd.DataFrame()\n",
    "df1=pd.DataFrame()\n",
    "df=pd.DataFrame([s_link])\n",
    "df=df.transpose()\n",
    "\n",
    "df1 = pd.DataFrame([sub.split(\"\\n\") for sub in s_name])\n",
    "df1=df1.transpose()\n",
    "\n",
    "pd.set_option('max_colwidth',500)\n",
    "\n",
    "df1.drop(df1.index[[0,-1,-2]],inplace=True)\n",
    "\n",
    "df1=df1.reset_index(drop=True)\n",
    "\n",
    "data=pd.concat([df,df1],axis=1)"
   ]
  },
  {
   "cell_type": "code",
   "execution_count": 61,
   "metadata": {},
   "outputs": [
    {
     "data": {
      "text/html": [
       "<div>\n",
       "<style scoped>\n",
       "    .dataframe tbody tr th:only-of-type {\n",
       "        vertical-align: middle;\n",
       "    }\n",
       "\n",
       "    .dataframe tbody tr th {\n",
       "        vertical-align: top;\n",
       "    }\n",
       "\n",
       "    .dataframe thead th {\n",
       "        text-align: right;\n",
       "    }\n",
       "</style>\n",
       "<table border=\"1\" class=\"dataframe\">\n",
       "  <thead>\n",
       "    <tr style=\"text-align: right;\">\n",
       "      <th></th>\n",
       "      <th>0</th>\n",
       "      <th>0</th>\n",
       "    </tr>\n",
       "  </thead>\n",
       "  <tbody>\n",
       "    <tr>\n",
       "      <th>0</th>\n",
       "      <td>https://www.jiosaavn.com/album/the-diamond/50yKxgZksmc_</td>\n",
       "      <td>The Diamond</td>\n",
       "    </tr>\n",
       "    <tr>\n",
       "      <th>1</th>\n",
       "      <td>https://www.jiosaavn.com/album/true/R,FP71BRIag_</td>\n",
       "      <td>True</td>\n",
       "    </tr>\n",
       "    <tr>\n",
       "      <th>2</th>\n",
       "      <td>https://www.jiosaavn.com/album/this-is-brook-benton/zrU-Mc8r42Q_</td>\n",
       "      <td>This Is Brook Benton</td>\n",
       "    </tr>\n",
       "    <tr>\n",
       "      <th>3</th>\n",
       "      <td>https://www.jiosaavn.com/album/the-learning-train/qQrHyyh-P48_</td>\n",
       "      <td>The Learning Train</td>\n",
       "    </tr>\n",
       "    <tr>\n",
       "      <th>4</th>\n",
       "      <td>https://www.jiosaavn.com/album/the-best-of-evelyn-champagne-king/Lw3KlzgmhNM_</td>\n",
       "      <td>The Best Of Evelyn \"Champagne\" King</td>\n",
       "    </tr>\n",
       "    <tr>\n",
       "      <th>...</th>\n",
       "      <td>...</td>\n",
       "      <td>...</td>\n",
       "    </tr>\n",
       "    <tr>\n",
       "      <th>10045</th>\n",
       "      <td>https://www.jiosaavn.com/album/the-best-of-russ-taff/9G-FBvtuAck_</td>\n",
       "      <td>The Best Of Russ Taff</td>\n",
       "    </tr>\n",
       "    <tr>\n",
       "      <th>10046</th>\n",
       "      <td>https://www.jiosaavn.com/album/the-right-touch/gePwzTxm6kk_</td>\n",
       "      <td>The Right Touch</td>\n",
       "    </tr>\n",
       "    <tr>\n",
       "      <th>10047</th>\n",
       "      <td>https://www.jiosaavn.com/album/the-curtain-hits-the-cast/I3wvt2l,FqA_</td>\n",
       "      <td>The Curtain Hits The Cast</td>\n",
       "    </tr>\n",
       "    <tr>\n",
       "      <th>10048</th>\n",
       "      <td>https://www.jiosaavn.com/album/transmission/XqIg4eoK-zs_</td>\n",
       "      <td>Transmission</td>\n",
       "    </tr>\n",
       "    <tr>\n",
       "      <th>10049</th>\n",
       "      <td>https://www.jiosaavn.com/album/the-pet-sounds-sessions:-a-30th-anniversary-collection/dI2fYLm6lM8_</td>\n",
       "      <td>The Pet Sounds Sessions: A 30th Anniversary Collection</td>\n",
       "    </tr>\n",
       "  </tbody>\n",
       "</table>\n",
       "<p>10050 rows × 2 columns</p>\n",
       "</div>"
      ],
      "text/plain": [
       "                                                                                                        0  \\\n",
       "0                                                 https://www.jiosaavn.com/album/the-diamond/50yKxgZksmc_   \n",
       "1                                                        https://www.jiosaavn.com/album/true/R,FP71BRIag_   \n",
       "2                                        https://www.jiosaavn.com/album/this-is-brook-benton/zrU-Mc8r42Q_   \n",
       "3                                          https://www.jiosaavn.com/album/the-learning-train/qQrHyyh-P48_   \n",
       "4                           https://www.jiosaavn.com/album/the-best-of-evelyn-champagne-king/Lw3KlzgmhNM_   \n",
       "...                                                                                                   ...   \n",
       "10045                                   https://www.jiosaavn.com/album/the-best-of-russ-taff/9G-FBvtuAck_   \n",
       "10046                                         https://www.jiosaavn.com/album/the-right-touch/gePwzTxm6kk_   \n",
       "10047                               https://www.jiosaavn.com/album/the-curtain-hits-the-cast/I3wvt2l,FqA_   \n",
       "10048                                            https://www.jiosaavn.com/album/transmission/XqIg4eoK-zs_   \n",
       "10049  https://www.jiosaavn.com/album/the-pet-sounds-sessions:-a-30th-anniversary-collection/dI2fYLm6lM8_   \n",
       "\n",
       "                                                            0  \n",
       "0                                                 The Diamond  \n",
       "1                                                        True  \n",
       "2                                        This Is Brook Benton  \n",
       "3                                          The Learning Train  \n",
       "4                         The Best Of Evelyn \"Champagne\" King  \n",
       "...                                                       ...  \n",
       "10045                                   The Best Of Russ Taff  \n",
       "10046                                         The Right Touch  \n",
       "10047                               The Curtain Hits The Cast  \n",
       "10048                                            Transmission  \n",
       "10049  The Pet Sounds Sessions: A 30th Anniversary Collection  \n",
       "\n",
       "[10050 rows x 2 columns]"
      ]
     },
     "execution_count": 61,
     "metadata": {},
     "output_type": "execute_result"
    }
   ],
   "source": []
  },
  {
   "cell_type": "code",
   "execution_count": null,
   "metadata": {},
   "outputs": [],
   "source": []
  }
 ],
 "metadata": {
  "kernelspec": {
   "display_name": "Python 3",
   "language": "python",
   "name": "python3"
  },
  "language_info": {
   "codemirror_mode": {
    "name": "ipython",
    "version": 3
   },
   "file_extension": ".py",
   "mimetype": "text/x-python",
   "name": "python",
   "nbconvert_exporter": "python",
   "pygments_lexer": "ipython3",
   "version": "3.7.6"
  }
 },
 "nbformat": 4,
 "nbformat_minor": 4
}
