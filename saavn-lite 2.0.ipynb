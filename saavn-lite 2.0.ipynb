{
 "cells": [
  {
   "cell_type": "code",
   "execution_count": 1,
   "metadata": {},
   "outputs": [],
   "source": [
    "import requests,re,pandas as pd\n",
    "from bs4 import BeautifulSoup as bs\n",
    "\n",
    "alpha='b'\n",
    "lang='english'\n",
    "s_name=[]\n",
    "s_link=[]\n",
    "df=pd.DataFrame(columns=['name','link'])\n"
   ]
  },
  {
   "cell_type": "code",
   "execution_count": null,
   "metadata": {},
   "outputs": [],
   "source": [
    "page = requests.get('https://www.jiosaavn.com/catalogue-{}/albums-{}?p={}'.format(alpha,lang,p))\n",
    "while page.status_code == 200:\n",
    "    soup=bs(page.content,'html.parser')\n",
    "    sme=soup.find_all('ul',class_='catalog-items')\n",
    "\n",
    "    for s in sme:\n",
    "        s_name.append(s.get_text())\n",
    "\n",
    "    for s in soup.find_all('a'):\n",
    "        ls=str(s.get('href'))\n",
    "        if(ls.startswith('https://www.jiosaavn.com/album/{}'.format(alpha))):\n",
    "            s_link.append(ls)"
   ]
  },
  {
   "cell_type": "code",
   "execution_count": null,
   "metadata": {},
   "outputs": [],
   "source": [
    "df=pd.DataFrame([s_link])\n",
    "df=df.transpose()"
   ]
  },
  {
   "cell_type": "code",
   "execution_count": 13,
   "metadata": {},
   "outputs": [
    {
     "data": {
      "text/html": [
       "<div>\n",
       "<style scoped>\n",
       "    .dataframe tbody tr th:only-of-type {\n",
       "        vertical-align: middle;\n",
       "    }\n",
       "\n",
       "    .dataframe tbody tr th {\n",
       "        vertical-align: top;\n",
       "    }\n",
       "\n",
       "    .dataframe thead th {\n",
       "        text-align: right;\n",
       "    }\n",
       "</style>\n",
       "<table border=\"1\" class=\"dataframe\">\n",
       "  <thead>\n",
       "    <tr style=\"text-align: right;\">\n",
       "      <th></th>\n",
       "      <th>0</th>\n",
       "    </tr>\n",
       "  </thead>\n",
       "  <tbody>\n",
       "    <tr>\n",
       "      <th>0</th>\n",
       "      <td>https://www.jiosaavn.com/album/blackmail/PQJO7...</td>\n",
       "    </tr>\n",
       "    <tr>\n",
       "      <th>1</th>\n",
       "      <td>https://www.jiosaavn.com/album/blue-light-boog...</td>\n",
       "    </tr>\n",
       "    <tr>\n",
       "      <th>2</th>\n",
       "      <td>https://www.jiosaavn.com/album/born-to-mack/DQ...</td>\n",
       "    </tr>\n",
       "    <tr>\n",
       "      <th>3</th>\n",
       "      <td>https://www.jiosaavn.com/album/best-of-spice-1...</td>\n",
       "    </tr>\n",
       "    <tr>\n",
       "      <th>4</th>\n",
       "      <td>https://www.jiosaavn.com/album/bryant-street/W...</td>\n",
       "    </tr>\n",
       "    <tr>\n",
       "      <th>...</th>\n",
       "      <td>...</td>\n",
       "    </tr>\n",
       "    <tr>\n",
       "      <th>20607</th>\n",
       "      <td>https://www.jiosaavn.com/album/bilbao-kurt-wei...</td>\n",
       "    </tr>\n",
       "    <tr>\n",
       "      <th>20608</th>\n",
       "      <td>https://www.jiosaavn.com/album/biringi/VwDgVBn...</td>\n",
       "    </tr>\n",
       "    <tr>\n",
       "      <th>20609</th>\n",
       "      <td>https://www.jiosaavn.com/album/bwana-anatupend...</td>\n",
       "    </tr>\n",
       "    <tr>\n",
       "      <th>20610</th>\n",
       "      <td>https://www.jiosaavn.com/album/break-up-in-a-s...</td>\n",
       "    </tr>\n",
       "    <tr>\n",
       "      <th>20611</th>\n",
       "      <td>https://www.jiosaavn.com/album/break-up-in-a-s...</td>\n",
       "    </tr>\n",
       "  </tbody>\n",
       "</table>\n",
       "<p>20612 rows × 1 columns</p>\n",
       "</div>"
      ],
      "text/plain": [
       "                                                       0\n",
       "0      https://www.jiosaavn.com/album/blackmail/PQJO7...\n",
       "1      https://www.jiosaavn.com/album/blue-light-boog...\n",
       "2      https://www.jiosaavn.com/album/born-to-mack/DQ...\n",
       "3      https://www.jiosaavn.com/album/best-of-spice-1...\n",
       "4      https://www.jiosaavn.com/album/bryant-street/W...\n",
       "...                                                  ...\n",
       "20607  https://www.jiosaavn.com/album/bilbao-kurt-wei...\n",
       "20608  https://www.jiosaavn.com/album/biringi/VwDgVBn...\n",
       "20609  https://www.jiosaavn.com/album/bwana-anatupend...\n",
       "20610  https://www.jiosaavn.com/album/break-up-in-a-s...\n",
       "20611  https://www.jiosaavn.com/album/break-up-in-a-s...\n",
       "\n",
       "[20612 rows x 1 columns]"
      ]
     },
     "execution_count": 13,
     "metadata": {},
     "output_type": "execute_result"
    }
   ],
   "source": [
    "df"
   ]
  },
  {
   "cell_type": "code",
   "execution_count": null,
   "metadata": {},
   "outputs": [],
   "source": []
  },
  {
   "cell_type": "code",
   "execution_count": null,
   "metadata": {},
   "outputs": [],
   "source": []
  }
 ],
 "metadata": {
  "kernelspec": {
   "display_name": "Python 3",
   "language": "python",
   "name": "python3"
  },
  "language_info": {
   "codemirror_mode": {
    "name": "ipython",
    "version": 3
   },
   "file_extension": ".py",
   "mimetype": "text/x-python",
   "name": "python",
   "nbconvert_exporter": "python",
   "pygments_lexer": "ipython3",
   "version": "3.7.6"
  }
 },
 "nbformat": 4,
 "nbformat_minor": 4
}
